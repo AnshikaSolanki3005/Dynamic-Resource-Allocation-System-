{
 "cells": [
  {
   "cell_type": "markdown",
   "metadata": {},
   "source": [
    "### Import the Libraries"
   ]
  },
  {
   "cell_type": "code",
   "execution_count": 24,
   "metadata": {},
   "outputs": [
    {
     "name": "stdout",
     "output_type": "stream",
     "text": [
      "Collecting scikit-learn==1.5.0\n",
      "  Downloading scikit_learn-1.5.0-cp312-cp312-win_amd64.whl.metadata (11 kB)\n",
      "Requirement already satisfied: numpy>=1.19.5 in c:\\users\\asus\\appdata\\local\\programs\\python\\python312\\lib\\site-packages (from scikit-learn==1.5.0) (2.2.1)\n",
      "Requirement already satisfied: scipy>=1.6.0 in c:\\users\\asus\\appdata\\local\\programs\\python\\python312\\lib\\site-packages (from scikit-learn==1.5.0) (1.15.0)\n",
      "Requirement already satisfied: joblib>=1.2.0 in c:\\users\\asus\\appdata\\local\\programs\\python\\python312\\lib\\site-packages (from scikit-learn==1.5.0) (1.4.2)\n",
      "Requirement already satisfied: threadpoolctl>=3.1.0 in c:\\users\\asus\\appdata\\local\\programs\\python\\python312\\lib\\site-packages (from scikit-learn==1.5.0) (3.5.0)\n",
      "Downloading scikit_learn-1.5.0-cp312-cp312-win_amd64.whl (10.9 MB)\n",
      "   ---------------------------------------- 0.0/10.9 MB ? eta -:--:--\n",
      "   ------- -------------------------------- 2.1/10.9 MB 10.7 MB/s eta 0:00:01\n",
      "   --------------- ------------------------ 4.2/10.9 MB 10.5 MB/s eta 0:00:01\n",
      "   ----------------------- ---------------- 6.3/10.9 MB 10.7 MB/s eta 0:00:01\n",
      "   ----------------------- ---------------- 6.3/10.9 MB 10.7 MB/s eta 0:00:01\n",
      "   -------------------------- ------------- 7.3/10.9 MB 7.0 MB/s eta 0:00:01\n",
      "   ---------------------------------- ----- 9.4/10.9 MB 7.6 MB/s eta 0:00:01\n",
      "   ---------------------------------- ----- 9.4/10.9 MB 7.6 MB/s eta 0:00:01\n",
      "   ---------------------------------------- 10.9/10.9 MB 6.5 MB/s eta 0:00:00\n",
      "Installing collected packages: scikit-learn\n",
      "  Attempting uninstall: scikit-learn\n",
      "    Found existing installation: scikit-learn 1.6.0\n",
      "    Uninstalling scikit-learn-1.6.0:\n",
      "      Successfully uninstalled scikit-learn-1.6.0\n",
      "Successfully installed scikit-learn-1.5.0\n"
     ]
    }
   ],
   "source": [
    "!pip install scikit-learn==1.5.0\n"
   ]
  },
  {
   "cell_type": "code",
   "execution_count": 25,
   "metadata": {},
   "outputs": [
    {
     "name": "stdout",
     "output_type": "stream",
     "text": [
      "Collecting xgboost==1.5.0\n",
      "  Downloading xgboost-1.5.0-py3-none-win_amd64.whl.metadata (1.7 kB)\n",
      "Requirement already satisfied: numpy in c:\\users\\asus\\appdata\\local\\programs\\python\\python312\\lib\\site-packages (from xgboost==1.5.0) (2.2.1)\n",
      "Requirement already satisfied: scipy in c:\\users\\asus\\appdata\\local\\programs\\python\\python312\\lib\\site-packages (from xgboost==1.5.0) (1.15.0)\n",
      "Downloading xgboost-1.5.0-py3-none-win_amd64.whl (106.6 MB)\n",
      "   ---------------------------------------- 0.0/106.6 MB ? eta -:--:--\n",
      "    --------------------------------------- 2.4/106.6 MB 11.2 MB/s eta 0:00:10\n",
      "   - -------------------------------------- 4.7/106.6 MB 11.4 MB/s eta 0:00:09\n",
      "   -- ------------------------------------- 7.1/106.6 MB 11.5 MB/s eta 0:00:09\n",
      "   --- ------------------------------------ 9.4/106.6 MB 11.3 MB/s eta 0:00:09\n",
      "   ---- ----------------------------------- 12.1/106.6 MB 11.4 MB/s eta 0:00:09\n",
      "   ----- ---------------------------------- 13.6/106.6 MB 10.8 MB/s eta 0:00:09\n",
      "   ------ --------------------------------- 16.0/106.6 MB 10.8 MB/s eta 0:00:09\n",
      "   ------ --------------------------------- 18.4/106.6 MB 10.9 MB/s eta 0:00:09\n",
      "   ------- -------------------------------- 20.4/106.6 MB 10.8 MB/s eta 0:00:09\n",
      "   -------- ------------------------------- 22.8/106.6 MB 10.8 MB/s eta 0:00:08\n",
      "   --------- ------------------------------ 24.9/106.6 MB 10.7 MB/s eta 0:00:08\n",
      "   ---------- ----------------------------- 27.0/106.6 MB 10.7 MB/s eta 0:00:08\n",
      "   ----------- ---------------------------- 29.4/106.6 MB 10.7 MB/s eta 0:00:08\n",
      "   ----------- ---------------------------- 31.2/106.6 MB 10.6 MB/s eta 0:00:08\n",
      "   ------------ --------------------------- 33.0/106.6 MB 10.5 MB/s eta 0:00:08\n",
      "   ------------- -------------------------- 34.9/106.6 MB 10.4 MB/s eta 0:00:07\n",
      "   ------------- -------------------------- 37.2/106.6 MB 10.4 MB/s eta 0:00:07\n",
      "   -------------- ------------------------- 39.3/106.6 MB 10.4 MB/s eta 0:00:07\n",
      "   --------------- ------------------------ 40.6/106.6 MB 10.3 MB/s eta 0:00:07\n",
      "   --------------- ------------------------ 41.2/106.6 MB 10.0 MB/s eta 0:00:07\n",
      "   --------------- ------------------------ 42.5/106.6 MB 9.6 MB/s eta 0:00:07\n",
      "   ---------------- ----------------------- 44.6/106.6 MB 9.6 MB/s eta 0:00:07\n",
      "   ---------------- ----------------------- 44.6/106.6 MB 9.6 MB/s eta 0:00:07\n",
      "   ---------------- ----------------------- 45.1/106.6 MB 8.9 MB/s eta 0:00:07\n",
      "   ----------------- ---------------------- 47.2/106.6 MB 9.0 MB/s eta 0:00:07\n",
      "   ------------------ --------------------- 49.3/106.6 MB 9.0 MB/s eta 0:00:07\n",
      "   ------------------- -------------------- 51.6/106.6 MB 9.0 MB/s eta 0:00:07\n",
      "   -------------------- ------------------- 54.0/106.6 MB 9.1 MB/s eta 0:00:06\n",
      "   --------------------- ------------------ 56.4/106.6 MB 9.2 MB/s eta 0:00:06\n",
      "   --------------------- ------------------ 58.2/106.6 MB 9.2 MB/s eta 0:00:06\n",
      "   ---------------------- ----------------- 60.3/106.6 MB 9.2 MB/s eta 0:00:06\n",
      "   ----------------------- ---------------- 62.1/106.6 MB 9.2 MB/s eta 0:00:05\n",
      "   ------------------------ --------------- 64.2/106.6 MB 9.2 MB/s eta 0:00:05\n",
      "   ------------------------ --------------- 66.3/106.6 MB 9.2 MB/s eta 0:00:05\n",
      "   ------------------------- -------------- 68.2/106.6 MB 9.2 MB/s eta 0:00:05\n",
      "   -------------------------- ------------- 70.3/106.6 MB 9.3 MB/s eta 0:00:04\n",
      "   --------------------------- ------------ 72.4/106.6 MB 9.3 MB/s eta 0:00:04\n",
      "   --------------------------- ------------ 74.2/106.6 MB 9.3 MB/s eta 0:00:04\n",
      "   ---------------------------- ----------- 76.3/106.6 MB 9.3 MB/s eta 0:00:04\n",
      "   ----------------------------- ---------- 78.6/106.6 MB 9.3 MB/s eta 0:00:03\n",
      "   ------------------------------ --------- 81.3/106.6 MB 9.4 MB/s eta 0:00:03\n",
      "   ------------------------------- -------- 83.6/106.6 MB 9.4 MB/s eta 0:00:03\n",
      "   -------------------------------- ------- 86.0/106.6 MB 9.5 MB/s eta 0:00:03\n",
      "   --------------------------------- ------ 88.6/106.6 MB 9.6 MB/s eta 0:00:02\n",
      "   ---------------------------------- ----- 91.0/106.6 MB 9.6 MB/s eta 0:00:02\n",
      "   ----------------------------------- ---- 93.3/106.6 MB 9.6 MB/s eta 0:00:02\n",
      "   ------------------------------------ --- 95.9/106.6 MB 9.7 MB/s eta 0:00:02\n",
      "   ------------------------------------ --- 97.3/106.6 MB 9.6 MB/s eta 0:00:01\n",
      "   ------------------------------------- -- 99.4/106.6 MB 9.6 MB/s eta 0:00:01\n",
      "   ------------------------------------- -- 100.1/106.6 MB 9.5 MB/s eta 0:00:01\n",
      "   ------------------------------------- -- 100.9/106.6 MB 9.4 MB/s eta 0:00:01\n",
      "   -------------------------------------- - 103.3/106.6 MB 9.4 MB/s eta 0:00:01\n",
      "   ---------------------------------------  105.6/106.6 MB 9.5 MB/s eta 0:00:01\n",
      "   ---------------------------------------  106.4/106.6 MB 9.5 MB/s eta 0:00:01\n",
      "   ---------------------------------------  106.4/106.6 MB 9.5 MB/s eta 0:00:01\n",
      "   ---------------------------------------- 106.6/106.6 MB 9.2 MB/s eta 0:00:00\n",
      "Installing collected packages: xgboost\n",
      "  Attempting uninstall: xgboost\n",
      "    Found existing installation: xgboost 2.1.3\n",
      "    Uninstalling xgboost-2.1.3:\n",
      "      Successfully uninstalled xgboost-2.1.3\n",
      "Successfully installed xgboost-1.5.0\n"
     ]
    }
   ],
   "source": [
    "!pip install xgboost==1.5.0"
   ]
  },
  {
   "cell_type": "code",
   "execution_count": 6,
   "metadata": {},
   "outputs": [
    {
     "name": "stdout",
     "output_type": "stream",
     "text": [
      "Collecting xgboost\n",
      "  Using cached xgboost-2.1.3-py3-none-win_amd64.whl.metadata (2.1 kB)\n",
      "Requirement already satisfied: numpy in c:\\users\\asus\\anaconda3\\lib\\site-packages (from xgboost) (1.26.4)\n",
      "Requirement already satisfied: scipy in c:\\users\\asus\\anaconda3\\lib\\site-packages (from xgboost) (1.13.1)\n",
      "Using cached xgboost-2.1.3-py3-none-win_amd64.whl (124.9 MB)\n",
      "Installing collected packages: xgboost\n",
      "Successfully installed xgboost-2.1.3\n",
      "Requirement already satisfied: scikit-learn in c:\\users\\asus\\anaconda3\\lib\\site-packages (1.5.1)\n",
      "Collecting scikit-learn\n",
      "  Using cached scikit_learn-1.6.1-cp312-cp312-win_amd64.whl.metadata (15 kB)\n",
      "Requirement already satisfied: numpy>=1.19.5 in c:\\users\\asus\\anaconda3\\lib\\site-packages (from scikit-learn) (1.26.4)\n",
      "Requirement already satisfied: scipy>=1.6.0 in c:\\users\\asus\\anaconda3\\lib\\site-packages (from scikit-learn) (1.13.1)\n",
      "Requirement already satisfied: joblib>=1.2.0 in c:\\users\\asus\\anaconda3\\lib\\site-packages (from scikit-learn) (1.4.2)\n",
      "Requirement already satisfied: threadpoolctl>=3.1.0 in c:\\users\\asus\\anaconda3\\lib\\site-packages (from scikit-learn) (3.5.0)\n",
      "Using cached scikit_learn-1.6.1-cp312-cp312-win_amd64.whl (11.1 MB)\n",
      "Installing collected packages: scikit-learn\n",
      "  Attempting uninstall: scikit-learn\n",
      "    Found existing installation: scikit-learn 1.5.1\n",
      "    Uninstalling scikit-learn-1.5.1:\n",
      "      Successfully uninstalled scikit-learn-1.5.1\n",
      "Successfully installed scikit-learn-1.6.1\n"
     ]
    }
   ],
   "source": [
    "!pip install --upgrade xgboost\n",
    "!pip install --upgrade scikit-learn"
   ]
  },
  {
   "cell_type": "code",
   "execution_count": 1,
   "metadata": {},
   "outputs": [],
   "source": [
    "import sklearn\n",
    "import xgboost"
   ]
  },
  {
   "cell_type": "code",
   "execution_count": 2,
   "metadata": {},
   "outputs": [],
   "source": [
    "import pandas as pd\n",
    "import numpy as np\n",
    "import matplotlib.pyplot as plt\n",
    "import seaborn as sns\n",
    "%matplotlib inline"
   ]
  },
  {
   "cell_type": "code",
   "execution_count": 16,
   "metadata": {},
   "outputs": [
    {
     "name": "stdout",
     "output_type": "stream",
     "text": [
      "Requirement already satisfied: scikit-learn in c:\\users\\asus\\anaconda3\\lib\\site-packages (1.6.1)\n",
      "Requirement already satisfied: numpy>=1.19.5 in c:\\users\\asus\\anaconda3\\lib\\site-packages (from scikit-learn) (1.26.4)\n",
      "Requirement already satisfied: scipy>=1.6.0 in c:\\users\\asus\\anaconda3\\lib\\site-packages (from scikit-learn) (1.13.1)\n",
      "Requirement already satisfied: joblib>=1.2.0 in c:\\users\\asus\\anaconda3\\lib\\site-packages (from scikit-learn) (1.4.2)\n",
      "Requirement already satisfied: threadpoolctl>=3.1.0 in c:\\users\\asus\\anaconda3\\lib\\site-packages (from scikit-learn) (3.5.0)\n",
      "Note: you may need to restart the kernel to use updated packages.\n"
     ]
    }
   ],
   "source": [
    "pip install scikit-learn"
   ]
  },
  {
   "cell_type": "code",
   "execution_count": 3,
   "metadata": {},
   "outputs": [],
   "source": [
    "# Modelling \n",
    "from sklearn.preprocessing import LabelEncoder \n",
    "from sklearn.preprocessing import StandardScaler\n",
    "from sklearn.model_selection import train_test_split\n",
    "from sklearn.ensemble import RandomForestRegressor\n",
    "from sklearn.linear_model import LinearRegression\n",
    "from sklearn.model_selection import GridSearchCV\n",
    "from sklearn.svm import SVR\n",
    "from sklearn.metrics import mean_squared_error, confusion_matrix ,r2_score"
   ]
  },
  {
   "cell_type": "markdown",
   "metadata": {},
   "source": [
    "### Import the Datasets"
   ]
  },
  {
   "cell_type": "code",
   "execution_count": 4,
   "metadata": {},
   "outputs": [
    {
     "name": "stderr",
     "output_type": "stream",
     "text": [
      "C:\\Users\\ASUS\\AppData\\Local\\Temp\\ipykernel_14596\\2202315815.py:1: DtypeWarning: Columns (5) have mixed types. Specify dtype option on import or set low_memory=False.\n",
      "  df1 = pd.read_csv('data/nodes_allocatable.csv')\n"
     ]
    }
   ],
   "source": [
    "df1 = pd.read_csv('data/nodes_allocatable.csv')\n",
    "df2 = pd.read_csv('data/pods_request_workloads.csv')"
   ]
  },
  {
   "cell_type": "code",
   "execution_count": 5,
   "metadata": {},
   "outputs": [
    {
     "name": "stdout",
     "output_type": "stream",
     "text": [
      "Merged Dataset Shape: (22237197, 13)\n",
      "Merged Dataset Columns: Index(['timestamp', 'node', 'cpu_workloads', 'memory_workloads',\n",
      "       'nvidia_com_gpu_workloads', 'status', 'condition', 'scenario_workloads',\n",
      "       'uid', 'cpu_allocatable', 'memory_allocatable',\n",
      "       'nvidia_com_gpu_allocatable', 'scenario_allocatable'],\n",
      "      dtype='object')\n"
     ]
    }
   ],
   "source": [
    "# Merge datasets with an outer join\n",
    "data = pd.merge(df1,df2,\n",
    "    on=['timestamp', 'node'],  # Merge on common columns\n",
    "    how='outer',  # Include all rows from both datasets\n",
    "    suffixes=('_workloads', '_allocatable')  # Add suffixes to avoid column name conflicts\n",
    ")\n",
    "\n",
    "# Display the merged dataset\n",
    "print(\"Merged Dataset Shape:\", data.shape)\n",
    "print(\"Merged Dataset Columns:\", data.columns)\n",
    "\n",
    "# Save the merged dataset for further use\n",
    "data.to_csv('data.csv', index=False)\n"
   ]
  },
  {
   "cell_type": "code",
   "execution_count": 6,
   "metadata": {},
   "outputs": [
    {
     "data": {
      "text/html": [
       "<div>\n",
       "<style scoped>\n",
       "    .dataframe tbody tr th:only-of-type {\n",
       "        vertical-align: middle;\n",
       "    }\n",
       "\n",
       "    .dataframe tbody tr th {\n",
       "        vertical-align: top;\n",
       "    }\n",
       "\n",
       "    .dataframe thead th {\n",
       "        text-align: right;\n",
       "    }\n",
       "</style>\n",
       "<table border=\"1\" class=\"dataframe\">\n",
       "  <thead>\n",
       "    <tr style=\"text-align: right;\">\n",
       "      <th></th>\n",
       "      <th>timestamp</th>\n",
       "      <th>node</th>\n",
       "      <th>cpu_workloads</th>\n",
       "      <th>memory_workloads</th>\n",
       "      <th>nvidia_com_gpu_workloads</th>\n",
       "      <th>status</th>\n",
       "      <th>condition</th>\n",
       "      <th>scenario_workloads</th>\n",
       "      <th>uid</th>\n",
       "      <th>cpu_allocatable</th>\n",
       "      <th>memory_allocatable</th>\n",
       "      <th>nvidia_com_gpu_allocatable</th>\n",
       "      <th>scenario_allocatable</th>\n",
       "    </tr>\n",
       "  </thead>\n",
       "  <tbody>\n",
       "    <tr>\n",
       "      <th>0</th>\n",
       "      <td>2023-10-13 12:04:00</td>\n",
       "      <td>0xozF0md0I</td>\n",
       "      <td>7.91</td>\n",
       "      <td>14684.878906</td>\n",
       "      <td>0.0</td>\n",
       "      <td>NaN</td>\n",
       "      <td>NaN</td>\n",
       "      <td>1</td>\n",
       "      <td>0a7e3149-7520-44af-be02-6cb0ede2109d</td>\n",
       "      <td>0.100</td>\n",
       "      <td>0.0</td>\n",
       "      <td>0.0</td>\n",
       "      <td>A</td>\n",
       "    </tr>\n",
       "    <tr>\n",
       "      <th>1</th>\n",
       "      <td>2023-10-13 12:04:00</td>\n",
       "      <td>0xozF0md0I</td>\n",
       "      <td>7.91</td>\n",
       "      <td>14684.878906</td>\n",
       "      <td>0.0</td>\n",
       "      <td>NaN</td>\n",
       "      <td>NaN</td>\n",
       "      <td>1</td>\n",
       "      <td>327fff0d-3d9d-4c99-8e0d-f8581dfa7373</td>\n",
       "      <td>0.010</td>\n",
       "      <td>40.0</td>\n",
       "      <td>0.0</td>\n",
       "      <td>A</td>\n",
       "    </tr>\n",
       "    <tr>\n",
       "      <th>2</th>\n",
       "      <td>2023-10-13 12:04:00</td>\n",
       "      <td>0xozF0md0I</td>\n",
       "      <td>7.91</td>\n",
       "      <td>14684.878906</td>\n",
       "      <td>0.0</td>\n",
       "      <td>NaN</td>\n",
       "      <td>NaN</td>\n",
       "      <td>1</td>\n",
       "      <td>40054bfd-b720-4f90-86c2-974e227c178f</td>\n",
       "      <td>0.025</td>\n",
       "      <td>0.0</td>\n",
       "      <td>0.0</td>\n",
       "      <td>A</td>\n",
       "    </tr>\n",
       "    <tr>\n",
       "      <th>3</th>\n",
       "      <td>2023-10-13 12:04:00</td>\n",
       "      <td>1uYdt27oKb</td>\n",
       "      <td>7.91</td>\n",
       "      <td>14684.878906</td>\n",
       "      <td>0.0</td>\n",
       "      <td>NaN</td>\n",
       "      <td>NaN</td>\n",
       "      <td>1</td>\n",
       "      <td>234bebd4-85d4-4068-8dde-0b2a43fc7940</td>\n",
       "      <td>0.100</td>\n",
       "      <td>0.0</td>\n",
       "      <td>0.0</td>\n",
       "      <td>A</td>\n",
       "    </tr>\n",
       "    <tr>\n",
       "      <th>4</th>\n",
       "      <td>2023-10-13 12:04:00</td>\n",
       "      <td>1uYdt27oKb</td>\n",
       "      <td>7.91</td>\n",
       "      <td>14684.878906</td>\n",
       "      <td>0.0</td>\n",
       "      <td>NaN</td>\n",
       "      <td>NaN</td>\n",
       "      <td>1</td>\n",
       "      <td>8619d1f4-7029-4425-9f99-725dcb545709</td>\n",
       "      <td>0.010</td>\n",
       "      <td>40.0</td>\n",
       "      <td>0.0</td>\n",
       "      <td>A</td>\n",
       "    </tr>\n",
       "  </tbody>\n",
       "</table>\n",
       "</div>"
      ],
      "text/plain": [
       "             timestamp        node  cpu_workloads  memory_workloads  \\\n",
       "0  2023-10-13 12:04:00  0xozF0md0I           7.91      14684.878906   \n",
       "1  2023-10-13 12:04:00  0xozF0md0I           7.91      14684.878906   \n",
       "2  2023-10-13 12:04:00  0xozF0md0I           7.91      14684.878906   \n",
       "3  2023-10-13 12:04:00  1uYdt27oKb           7.91      14684.878906   \n",
       "4  2023-10-13 12:04:00  1uYdt27oKb           7.91      14684.878906   \n",
       "\n",
       "   nvidia_com_gpu_workloads status condition  scenario_workloads  \\\n",
       "0                       0.0    NaN       NaN                   1   \n",
       "1                       0.0    NaN       NaN                   1   \n",
       "2                       0.0    NaN       NaN                   1   \n",
       "3                       0.0    NaN       NaN                   1   \n",
       "4                       0.0    NaN       NaN                   1   \n",
       "\n",
       "                                    uid  cpu_allocatable  memory_allocatable  \\\n",
       "0  0a7e3149-7520-44af-be02-6cb0ede2109d            0.100                 0.0   \n",
       "1  327fff0d-3d9d-4c99-8e0d-f8581dfa7373            0.010                40.0   \n",
       "2  40054bfd-b720-4f90-86c2-974e227c178f            0.025                 0.0   \n",
       "3  234bebd4-85d4-4068-8dde-0b2a43fc7940            0.100                 0.0   \n",
       "4  8619d1f4-7029-4425-9f99-725dcb545709            0.010                40.0   \n",
       "\n",
       "   nvidia_com_gpu_allocatable scenario_allocatable  \n",
       "0                         0.0                    A  \n",
       "1                         0.0                    A  \n",
       "2                         0.0                    A  \n",
       "3                         0.0                    A  \n",
       "4                         0.0                    A  "
      ]
     },
     "execution_count": 6,
     "metadata": {},
     "output_type": "execute_result"
    }
   ],
   "source": [
    "data.head()"
   ]
  },
  {
   "cell_type": "markdown",
   "metadata": {},
   "source": [
    "### Feature Engineering"
   ]
  },
  {
   "cell_type": "code",
   "execution_count": 7,
   "metadata": {},
   "outputs": [],
   "source": [
    "# Workload-to-Allocatable Ratios\n",
    "data['cpu_ratio'] = data['cpu_workloads'] / data['cpu_allocatable']"
   ]
  },
  {
   "cell_type": "code",
   "execution_count": 8,
   "metadata": {},
   "outputs": [],
   "source": [
    "# Total Workload\n",
    "data['total_workload'] = data['cpu_workloads'] + data['memory_workloads'] + data['nvidia_com_gpu_workloads']"
   ]
  },
  {
   "cell_type": "code",
   "execution_count": 9,
   "metadata": {},
   "outputs": [],
   "source": [
    "data['cpu_memory_interaction'] = data['cpu_workloads'] * data['memory_workloads']\n",
    "data['workload_allocatable_interaction'] = (data['cpu_workloads'] * data['cpu_allocatable']) +  (data['memory_workloads'] * data['memory_allocatable'])\n"
   ]
  },
  {
   "cell_type": "markdown",
   "metadata": {},
   "source": [
    "### Converting the other datatype into int datatype"
   ]
  },
  {
   "cell_type": "code",
   "execution_count": 10,
   "metadata": {},
   "outputs": [],
   "source": [
    "data['timestamp']=data['timestamp'].str.replace(r'[^\\d]','',regex='True')\n",
    "data['timestamp']=pd.to_numeric(data['timestamp'], errors='coerce').astype('int64')"
   ]
  },
  {
   "cell_type": "code",
   "execution_count": 11,
   "metadata": {},
   "outputs": [],
   "source": [
    "data['cpu_workloads']=pd.to_numeric(data['cpu_workloads'], errors='coerce').astype('int64')\n",
    "data['memory_workloads']=pd.to_numeric(data['memory_workloads'], errors='coerce').astype('int64')\n",
    "data['nvidia_com_gpu_workloads']=pd.to_numeric(data['nvidia_com_gpu_workloads'], errors='coerce').astype('int64')\n",
    "data['cpu_allocatable']=pd.to_numeric(data['cpu_allocatable'], errors='coerce').astype('int64')\n",
    "data['memory_allocatable']=pd.to_numeric(data['memory_allocatable'], errors='coerce').astype('int64')\n",
    "data['nvidia_com_gpu_allocatable']=pd.to_numeric(data['nvidia_com_gpu_allocatable'], errors='coerce').astype('int64')\n",
    "data['cpu_ratio']=pd.to_numeric(data['cpu_ratio'], errors='coerce').astype('int64')\n",
    "data['total_workload']=pd.to_numeric(data['total_workload'], errors='coerce').astype('int64')\n",
    "data['cpu_memory_interaction']=pd.to_numeric(data['cpu_memory_interaction'], errors='coerce').astype('int64')\n",
    "data['workload_allocatable_interaction']=pd.to_numeric(data['workload_allocatable_interaction'], errors='coerce').astype('int64')"
   ]
  },
  {
   "cell_type": "code",
   "execution_count": 12,
   "metadata": {},
   "outputs": [
    {
     "data": {
      "text/plain": [
       "timestamp                            int64\n",
       "node                                object\n",
       "cpu_workloads                        int64\n",
       "memory_workloads                     int64\n",
       "nvidia_com_gpu_workloads             int64\n",
       "status                              object\n",
       "condition                           object\n",
       "scenario_workloads                   int64\n",
       "uid                                 object\n",
       "cpu_allocatable                      int64\n",
       "memory_allocatable                   int64\n",
       "nvidia_com_gpu_allocatable           int64\n",
       "scenario_allocatable                object\n",
       "cpu_ratio                            int64\n",
       "total_workload                       int64\n",
       "cpu_memory_interaction               int64\n",
       "workload_allocatable_interaction     int64\n",
       "dtype: object"
      ]
     },
     "execution_count": 12,
     "metadata": {},
     "output_type": "execute_result"
    }
   ],
   "source": [
    "data.dtypes"
   ]
  },
  {
   "cell_type": "code",
   "execution_count": 13,
   "metadata": {},
   "outputs": [],
   "source": [
    "label_encoder = LabelEncoder()\n",
    "\n",
    "categorical = ['node', 'status', 'condition', 'scenario_workloads', 'scenario_allocatable', 'uid']\n",
    "\n",
    "for col in categorical:\n",
    "    data[col] = label_encoder.fit_transform(data[col])\n"
   ]
  },
  {
   "cell_type": "markdown",
   "metadata": {},
   "source": [
    "### Split the Data into Training & Testing"
   ]
  },
  {
   "cell_type": "code",
   "execution_count": 14,
   "metadata": {},
   "outputs": [],
   "source": [
    "X = data.drop(columns=['memory_allocatable'])\n",
    "y = data['memory_allocatable'] "
   ]
  },
  {
   "cell_type": "code",
   "execution_count": 15,
   "metadata": {},
   "outputs": [],
   "source": [
    "scaler = StandardScaler()\n",
    "X= scaler.fit_transform(X)"
   ]
  },
  {
   "cell_type": "code",
   "execution_count": 16,
   "metadata": {},
   "outputs": [],
   "source": [
    "X_train, X_test, y_train, y_test = train_test_split(X, y, test_size=0.5, random_state=42)"
   ]
  },
  {
   "cell_type": "code",
   "execution_count": 17,
   "metadata": {},
   "outputs": [
    {
     "data": {
      "text/plain": [
       "array([[-0.2283008 , -1.00238697, -0.70162823, ...,  1.47786161,\n",
       "         0.52475876,  0.33185503],\n",
       "       [-0.09391468,  0.00506258,  0.85464761, ..., -0.22791955,\n",
       "         0.44278419, -0.1219397 ],\n",
       "       [ 3.23579433,  0.00506258,  0.85464761, ..., -0.22791955,\n",
       "         0.44278419, -0.1219397 ],\n",
       "       ...,\n",
       "       [-0.14007355, -1.56208116, -1.47976616, ..., -1.43977843,\n",
       "        -2.10074719, -0.44408961],\n",
       "       [ 3.23519163, -0.55463161, -0.70162823, ...,  1.47786161,\n",
       "         0.52475876, -0.5480019 ],\n",
       "       [-0.08663481, -1.67402   , -1.47976616, ..., -1.43977843,\n",
       "        -2.10074719, -0.54800191]])"
      ]
     },
     "execution_count": 17,
     "metadata": {},
     "output_type": "execute_result"
    }
   ],
   "source": [
    "X_train"
   ]
  },
  {
   "cell_type": "markdown",
   "metadata": {},
   "source": [
    "### XgBoost Regressor"
   ]
  },
  {
   "cell_type": "code",
   "execution_count": 18,
   "metadata": {},
   "outputs": [],
   "source": [
    "from xgboost import XGBRegressor\n",
    "\n",
    "# Initialize model\n",
    "xgb_model = XGBRegressor(random_state=42, reg_alpha=0.1, reg_lambda=1.0)\n",
    "\n",
    "# Train the model\n",
    "xgb_model.fit(X_train, y_train)\n",
    "\n",
    "# Predict\n",
    "y_pred_xgb = xgb_model.predict(X_test)\n"
   ]
  },
  {
   "cell_type": "code",
   "execution_count": 19,
   "metadata": {},
   "outputs": [
    {
     "name": "stdout",
     "output_type": "stream",
     "text": [
      "XGBoost Regressor - MSE: 2.4421298761012622e-08, R2: 1.0\n"
     ]
    }
   ],
   "source": [
    "mse_xgb = mean_squared_error(y_test, y_pred_xgb)\n",
    "r2_xgb = r2_score(y_test, y_pred_xgb)\n",
    "\n",
    "print(f\"XGBoost Regressor - MSE: {mse_xgb}, R2: {r2_xgb}\")\n"
   ]
  },
  {
   "cell_type": "markdown",
   "metadata": {},
   "source": [
    "### Linear Regression"
   ]
  },
  {
   "cell_type": "code",
   "execution_count": 20,
   "metadata": {},
   "outputs": [],
   "source": [
    "lr_model = LinearRegression()\n",
    "lr_model.fit(X_train, y_train)\n",
    "lr_predictions = lr_model.predict(X_test)"
   ]
  },
  {
   "cell_type": "code",
   "execution_count": 21,
   "metadata": {},
   "outputs": [],
   "source": [
    "lr_mse = mean_squared_error(y_test, lr_predictions)\n",
    "lr_r2 = r2_score(y_test, lr_predictions)"
   ]
  },
  {
   "cell_type": "code",
   "execution_count": 22,
   "metadata": {},
   "outputs": [
    {
     "name": "stdout",
     "output_type": "stream",
     "text": [
      "\n",
      "Linear Regression:\n",
      "Mean Squared Error: 493137.06747110013\n",
      "R^2 Score: 0.8609216895541092\n"
     ]
    }
   ],
   "source": [
    "print(\"\\nLinear Regression:\")\n",
    "print(f\"Mean Squared Error: {lr_mse}\")\n",
    "print(f\"R^2 Score: {lr_r2}\")"
   ]
  },
  {
   "cell_type": "markdown",
   "metadata": {},
   "source": [
    "### Random Forest Regressor"
   ]
  },
  {
   "cell_type": "code",
   "execution_count": 24,
   "metadata": {},
   "outputs": [],
   "source": [
    "rf_model = RandomForestRegressor(n_estimators=75, random_state=42)\n",
    "rf_model.fit(X_train, y_train)\n",
    "rf_predictions = rf_model.predict(X_test)"
   ]
  },
  {
   "cell_type": "code",
   "execution_count": 25,
   "metadata": {},
   "outputs": [
    {
     "name": "stdout",
     "output_type": "stream",
     "text": [
      "Random Forest Regressor:\n",
      "Mean Squared Error: 0.0\n",
      "R^2 Score: 1.0\n"
     ]
    }
   ],
   "source": [
    "# Evaluate Models\n",
    "rf_mse = mean_squared_error(y_test, rf_predictions)\n",
    "rf_r2 = r2_score(y_test, rf_predictions)\n",
    "\n",
    "#  Print Results\n",
    "print(\"Random Forest Regressor:\")\n",
    "print(f\"Mean Squared Error: {rf_mse}\")\n",
    "print(f\"R^2 Score: {rf_r2}\")"
   ]
  },
  {
   "cell_type": "markdown",
   "metadata": {},
   "source": [
    "### Support Vector Regression"
   ]
  },
  {
   "cell_type": "code",
   "execution_count": null,
   "metadata": {},
   "outputs": [],
   "source": [
    "# SVR Model\n",
    "svr_model = SVR(kernel='rbf', C=1.0, epsilon=0.1)\n",
    "svr_model.fit(X_train, y_train)\n",
    "svr_predictions = svr_model.predict(X_test)\n",
    "\n",
    "# Evaluate Model\n",
    "svr_mse = mean_squared_error(y_test, svr_predictions)\n",
    "svr_r2 = r2_score(y_test, svr_predictions)\n",
    "\n",
    "# Print Results1\n",
    "print(\"Support Vector Regression (SVR):\")\n",
    "print(f\"Mean Squared Error: {svr_mse}\")\n",
    "print(f\"R^2 Score: {svr_r2}\")"
   ]
  },
  {
   "cell_type": "code",
   "execution_count": null,
   "metadata": {},
   "outputs": [],
   "source": []
  },
  {
   "cell_type": "code",
   "execution_count": null,
   "metadata": {},
   "outputs": [],
   "source": []
  }
 ],
 "metadata": {
  "kernelspec": {
   "display_name": "base",
   "language": "python",
   "name": "python3"
  },
  "language_info": {
   "codemirror_mode": {
    "name": "ipython",
    "version": 3
   },
   "file_extension": ".py",
   "mimetype": "text/x-python",
   "name": "python",
   "nbconvert_exporter": "python",
   "pygments_lexer": "ipython3",
   "version": "3.12.7"
  }
 },
 "nbformat": 4,
 "nbformat_minor": 2
}
